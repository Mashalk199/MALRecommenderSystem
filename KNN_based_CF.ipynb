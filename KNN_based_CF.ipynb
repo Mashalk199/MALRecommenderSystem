{
 "cells": [
  {
   "cell_type": "markdown",
   "metadata": {
    "id": "j0FI6PdE1YoN"
   },
   "source": [
    "# Import Necessary Libs"
   ]
  },
  {
   "cell_type": "code",
   "execution_count": 1,
   "metadata": {},
   "outputs": [],
   "source": [
    "seed = 999"
   ]
  },
  {
   "cell_type": "code",
   "execution_count": 2,
   "metadata": {
    "id": "qwRX_2RCrWdg"
   },
   "outputs": [],
   "source": [
    "import numpy as np\n",
    "import pandas as pd\n",
    "import matplotlib.pyplot as plt\n",
    "import seaborn as sns\n",
    "from sklearn.model_selection import train_test_split\n",
    "import random"
   ]
  },
  {
   "cell_type": "code",
   "execution_count": 3,
   "metadata": {},
   "outputs": [],
   "source": [
    "np.random.seed(seed)\n",
    "random.seed(seed)"
   ]
  },
  {
   "cell_type": "markdown",
   "metadata": {
    "id": "UJRU5o4d1iCC"
   },
   "source": [
    "## Load Dataset"
   ]
  },
  {
   "cell_type": "code",
   "execution_count": 4,
   "metadata": {},
   "outputs": [],
   "source": [
    "import os\n",
    "os.chdir('C:/Users/Mashal/Documents/Projects/MAL Recommender System')"
   ]
  },
  {
   "cell_type": "markdown",
   "metadata": {
    "id": "z90r54XGrmPj"
   },
   "source": [
    "# Split Dataset into Training Dataset and Testing Dataset"
   ]
  },
  {
   "cell_type": "code",
   "execution_count": 4,
   "metadata": {},
   "outputs": [
    {
     "data": {
      "text/html": [
       "<div>\n",
       "<style scoped>\n",
       "    .dataframe tbody tr th:only-of-type {\n",
       "        vertical-align: middle;\n",
       "    }\n",
       "\n",
       "    .dataframe tbody tr th {\n",
       "        vertical-align: top;\n",
       "    }\n",
       "\n",
       "    .dataframe thead th {\n",
       "        text-align: right;\n",
       "    }\n",
       "</style>\n",
       "<table border=\"1\" class=\"dataframe\">\n",
       "  <thead>\n",
       "    <tr style=\"text-align: right;\">\n",
       "      <th></th>\n",
       "      <th>username</th>\n",
       "      <th>anime_id</th>\n",
       "      <th>my_watched_episodes</th>\n",
       "      <th>my_start_date</th>\n",
       "      <th>my_finish_date</th>\n",
       "      <th>my_score</th>\n",
       "      <th>my_status</th>\n",
       "      <th>my_rewatching</th>\n",
       "      <th>my_rewatching_ep</th>\n",
       "      <th>my_last_updated</th>\n",
       "      <th>my_tags</th>\n",
       "    </tr>\n",
       "  </thead>\n",
       "  <tbody>\n",
       "    <tr>\n",
       "      <th>0</th>\n",
       "      <td>karthiga</td>\n",
       "      <td>21</td>\n",
       "      <td>586</td>\n",
       "      <td>0000-00-00</td>\n",
       "      <td>0000-00-00</td>\n",
       "      <td>9</td>\n",
       "      <td>1</td>\n",
       "      <td>NaN</td>\n",
       "      <td>0</td>\n",
       "      <td>2013-03-03 10:52:53</td>\n",
       "      <td>NaN</td>\n",
       "    </tr>\n",
       "    <tr>\n",
       "      <th>1</th>\n",
       "      <td>karthiga</td>\n",
       "      <td>59</td>\n",
       "      <td>26</td>\n",
       "      <td>0000-00-00</td>\n",
       "      <td>0000-00-00</td>\n",
       "      <td>7</td>\n",
       "      <td>2</td>\n",
       "      <td>NaN</td>\n",
       "      <td>0</td>\n",
       "      <td>2013-03-10 13:54:51</td>\n",
       "      <td>NaN</td>\n",
       "    </tr>\n",
       "    <tr>\n",
       "      <th>2</th>\n",
       "      <td>karthiga</td>\n",
       "      <td>74</td>\n",
       "      <td>26</td>\n",
       "      <td>0000-00-00</td>\n",
       "      <td>0000-00-00</td>\n",
       "      <td>7</td>\n",
       "      <td>2</td>\n",
       "      <td>NaN</td>\n",
       "      <td>0</td>\n",
       "      <td>2013-04-27 16:43:35</td>\n",
       "      <td>NaN</td>\n",
       "    </tr>\n",
       "    <tr>\n",
       "      <th>3</th>\n",
       "      <td>karthiga</td>\n",
       "      <td>120</td>\n",
       "      <td>26</td>\n",
       "      <td>0000-00-00</td>\n",
       "      <td>0000-00-00</td>\n",
       "      <td>7</td>\n",
       "      <td>2</td>\n",
       "      <td>NaN</td>\n",
       "      <td>0</td>\n",
       "      <td>2013-03-03 10:53:57</td>\n",
       "      <td>NaN</td>\n",
       "    </tr>\n",
       "    <tr>\n",
       "      <th>4</th>\n",
       "      <td>karthiga</td>\n",
       "      <td>178</td>\n",
       "      <td>26</td>\n",
       "      <td>0000-00-00</td>\n",
       "      <td>0000-00-00</td>\n",
       "      <td>7</td>\n",
       "      <td>2</td>\n",
       "      <td>0.0</td>\n",
       "      <td>0</td>\n",
       "      <td>2013-03-27 15:59:13</td>\n",
       "      <td>NaN</td>\n",
       "    </tr>\n",
       "    <tr>\n",
       "      <th>...</th>\n",
       "      <td>...</td>\n",
       "      <td>...</td>\n",
       "      <td>...</td>\n",
       "      <td>...</td>\n",
       "      <td>...</td>\n",
       "      <td>...</td>\n",
       "      <td>...</td>\n",
       "      <td>...</td>\n",
       "      <td>...</td>\n",
       "      <td>...</td>\n",
       "      <td>...</td>\n",
       "    </tr>\n",
       "    <tr>\n",
       "      <th>31284025</th>\n",
       "      <td>Yokonightcore</td>\n",
       "      <td>15611</td>\n",
       "      <td>48</td>\n",
       "      <td>2014-00-00</td>\n",
       "      <td>0000-00-00</td>\n",
       "      <td>9</td>\n",
       "      <td>1</td>\n",
       "      <td>NaN</td>\n",
       "      <td>0</td>\n",
       "      <td>2015-09-07 17:33:03</td>\n",
       "      <td>NaN</td>\n",
       "    </tr>\n",
       "    <tr>\n",
       "      <th>31284026</th>\n",
       "      <td>Yokonightcore</td>\n",
       "      <td>27815</td>\n",
       "      <td>22</td>\n",
       "      <td>0000-00-00</td>\n",
       "      <td>0000-00-00</td>\n",
       "      <td>9</td>\n",
       "      <td>1</td>\n",
       "      <td>NaN</td>\n",
       "      <td>0</td>\n",
       "      <td>2015-09-07 17:32:05</td>\n",
       "      <td>NaN</td>\n",
       "    </tr>\n",
       "    <tr>\n",
       "      <th>31284027</th>\n",
       "      <td>wargod</td>\n",
       "      <td>5945</td>\n",
       "      <td>39</td>\n",
       "      <td>0000-00-00</td>\n",
       "      <td>0000-00-00</td>\n",
       "      <td>8</td>\n",
       "      <td>2</td>\n",
       "      <td>0.0</td>\n",
       "      <td>0</td>\n",
       "      <td>2010-03-29 04:24:12</td>\n",
       "      <td>NaN</td>\n",
       "    </tr>\n",
       "    <tr>\n",
       "      <th>31284028</th>\n",
       "      <td>JMc_SetoKai_LoVe</td>\n",
       "      <td>1316</td>\n",
       "      <td>52</td>\n",
       "      <td>0000-00-00</td>\n",
       "      <td>0000-00-00</td>\n",
       "      <td>9</td>\n",
       "      <td>2</td>\n",
       "      <td>NaN</td>\n",
       "      <td>0</td>\n",
       "      <td>2009-12-23 05:45:14</td>\n",
       "      <td>NaN</td>\n",
       "    </tr>\n",
       "    <tr>\n",
       "      <th>31284029</th>\n",
       "      <td>hinogurl_mikha</td>\n",
       "      <td>1744</td>\n",
       "      <td>58</td>\n",
       "      <td>0000-00-00</td>\n",
       "      <td>0000-00-00</td>\n",
       "      <td>10</td>\n",
       "      <td>1</td>\n",
       "      <td>0.0</td>\n",
       "      <td>0</td>\n",
       "      <td>2008-04-05 11:36:20</td>\n",
       "      <td>NaN</td>\n",
       "    </tr>\n",
       "  </tbody>\n",
       "</table>\n",
       "<p>31284030 rows × 11 columns</p>\n",
       "</div>"
      ],
      "text/plain": [
       "                  username  anime_id  my_watched_episodes my_start_date  \\\n",
       "0                 karthiga        21                  586    0000-00-00   \n",
       "1                 karthiga        59                   26    0000-00-00   \n",
       "2                 karthiga        74                   26    0000-00-00   \n",
       "3                 karthiga       120                   26    0000-00-00   \n",
       "4                 karthiga       178                   26    0000-00-00   \n",
       "...                    ...       ...                  ...           ...   \n",
       "31284025     Yokonightcore     15611                   48    2014-00-00   \n",
       "31284026     Yokonightcore     27815                   22    0000-00-00   \n",
       "31284027            wargod      5945                   39    0000-00-00   \n",
       "31284028  JMc_SetoKai_LoVe      1316                   52    0000-00-00   \n",
       "31284029    hinogurl_mikha      1744                   58    0000-00-00   \n",
       "\n",
       "         my_finish_date  my_score  my_status  my_rewatching  my_rewatching_ep  \\\n",
       "0            0000-00-00         9          1            NaN                 0   \n",
       "1            0000-00-00         7          2            NaN                 0   \n",
       "2            0000-00-00         7          2            NaN                 0   \n",
       "3            0000-00-00         7          2            NaN                 0   \n",
       "4            0000-00-00         7          2            0.0                 0   \n",
       "...                 ...       ...        ...            ...               ...   \n",
       "31284025     0000-00-00         9          1            NaN                 0   \n",
       "31284026     0000-00-00         9          1            NaN                 0   \n",
       "31284027     0000-00-00         8          2            0.0                 0   \n",
       "31284028     0000-00-00         9          2            NaN                 0   \n",
       "31284029     0000-00-00        10          1            0.0                 0   \n",
       "\n",
       "              my_last_updated my_tags  \n",
       "0         2013-03-03 10:52:53     NaN  \n",
       "1         2013-03-10 13:54:51     NaN  \n",
       "2         2013-04-27 16:43:35     NaN  \n",
       "3         2013-03-03 10:53:57     NaN  \n",
       "4         2013-03-27 15:59:13     NaN  \n",
       "...                       ...     ...  \n",
       "31284025  2015-09-07 17:33:03     NaN  \n",
       "31284026  2015-09-07 17:32:05     NaN  \n",
       "31284027  2010-03-29 04:24:12     NaN  \n",
       "31284028  2009-12-23 05:45:14     NaN  \n",
       "31284029  2008-04-05 11:36:20     NaN  \n",
       "\n",
       "[31284030 rows x 11 columns]"
      ]
     },
     "execution_count": 4,
     "metadata": {},
     "output_type": "execute_result"
    }
   ],
   "source": [
    "full_df = pd.read_csv('../animelists_cleaned.csv')\n",
    "full_df"
   ]
  },
  {
   "cell_type": "markdown",
   "metadata": {},
   "source": [
    "Drop rows where username is missing"
   ]
  },
  {
   "cell_type": "code",
   "execution_count": 5,
   "metadata": {},
   "outputs": [],
   "source": [
    "full_df = full_df.dropna(subset=['username'])"
   ]
  },
  {
   "cell_type": "markdown",
   "metadata": {},
   "source": [
    "Drop rows where show score is zero, as this means it is unrated, and therefore useless data"
   ]
  },
  {
   "cell_type": "code",
   "execution_count": 6,
   "metadata": {},
   "outputs": [],
   "source": [
    "full_df = full_df[full_df['my_score'] > 0]"
   ]
  },
  {
   "cell_type": "code",
   "execution_count": 7,
   "metadata": {},
   "outputs": [
    {
     "data": {
      "text/html": [
       "<div>\n",
       "<style scoped>\n",
       "    .dataframe tbody tr th:only-of-type {\n",
       "        vertical-align: middle;\n",
       "    }\n",
       "\n",
       "    .dataframe tbody tr th {\n",
       "        vertical-align: top;\n",
       "    }\n",
       "\n",
       "    .dataframe thead th {\n",
       "        text-align: right;\n",
       "    }\n",
       "</style>\n",
       "<table border=\"1\" class=\"dataframe\">\n",
       "  <thead>\n",
       "    <tr style=\"text-align: right;\">\n",
       "      <th></th>\n",
       "      <th>anime_id</th>\n",
       "      <th>my_watched_episodes</th>\n",
       "      <th>my_score</th>\n",
       "      <th>my_status</th>\n",
       "      <th>my_rewatching</th>\n",
       "      <th>my_rewatching_ep</th>\n",
       "    </tr>\n",
       "  </thead>\n",
       "  <tbody>\n",
       "    <tr>\n",
       "      <th>count</th>\n",
       "      <td>1.917195e+07</td>\n",
       "      <td>1.917195e+07</td>\n",
       "      <td>1.917195e+07</td>\n",
       "      <td>1.917195e+07</td>\n",
       "      <td>1.411264e+07</td>\n",
       "      <td>1.917195e+07</td>\n",
       "    </tr>\n",
       "    <tr>\n",
       "      <th>mean</th>\n",
       "      <td>1.127331e+04</td>\n",
       "      <td>1.809466e+01</td>\n",
       "      <td>7.591404e+00</td>\n",
       "      <td>2.081085e+00</td>\n",
       "      <td>1.202398e-03</td>\n",
       "      <td>2.989212e-01</td>\n",
       "    </tr>\n",
       "    <tr>\n",
       "      <th>std</th>\n",
       "      <td>1.101460e+04</td>\n",
       "      <td>4.303521e+01</td>\n",
       "      <td>1.706195e+00</td>\n",
       "      <td>5.134124e-01</td>\n",
       "      <td>3.465475e-02</td>\n",
       "      <td>1.289120e+03</td>\n",
       "    </tr>\n",
       "    <tr>\n",
       "      <th>min</th>\n",
       "      <td>1.000000e+00</td>\n",
       "      <td>0.000000e+00</td>\n",
       "      <td>1.000000e+00</td>\n",
       "      <td>0.000000e+00</td>\n",
       "      <td>0.000000e+00</td>\n",
       "      <td>0.000000e+00</td>\n",
       "    </tr>\n",
       "    <tr>\n",
       "      <th>25%</th>\n",
       "      <td>1.562000e+03</td>\n",
       "      <td>2.000000e+00</td>\n",
       "      <td>7.000000e+00</td>\n",
       "      <td>2.000000e+00</td>\n",
       "      <td>0.000000e+00</td>\n",
       "      <td>0.000000e+00</td>\n",
       "    </tr>\n",
       "    <tr>\n",
       "      <th>50%</th>\n",
       "      <td>7.724000e+03</td>\n",
       "      <td>1.200000e+01</td>\n",
       "      <td>8.000000e+00</td>\n",
       "      <td>2.000000e+00</td>\n",
       "      <td>0.000000e+00</td>\n",
       "      <td>0.000000e+00</td>\n",
       "    </tr>\n",
       "    <tr>\n",
       "      <th>75%</th>\n",
       "      <td>1.867700e+04</td>\n",
       "      <td>2.200000e+01</td>\n",
       "      <td>9.000000e+00</td>\n",
       "      <td>2.000000e+00</td>\n",
       "      <td>0.000000e+00</td>\n",
       "      <td>0.000000e+00</td>\n",
       "    </tr>\n",
       "    <tr>\n",
       "      <th>max</th>\n",
       "      <td>3.786000e+04</td>\n",
       "      <td>9.999000e+03</td>\n",
       "      <td>1.000000e+01</td>\n",
       "      <td>3.300000e+01</td>\n",
       "      <td>1.000000e+00</td>\n",
       "      <td>5.644513e+06</td>\n",
       "    </tr>\n",
       "  </tbody>\n",
       "</table>\n",
       "</div>"
      ],
      "text/plain": [
       "           anime_id  my_watched_episodes      my_score     my_status  \\\n",
       "count  1.917195e+07         1.917195e+07  1.917195e+07  1.917195e+07   \n",
       "mean   1.127331e+04         1.809466e+01  7.591404e+00  2.081085e+00   \n",
       "std    1.101460e+04         4.303521e+01  1.706195e+00  5.134124e-01   \n",
       "min    1.000000e+00         0.000000e+00  1.000000e+00  0.000000e+00   \n",
       "25%    1.562000e+03         2.000000e+00  7.000000e+00  2.000000e+00   \n",
       "50%    7.724000e+03         1.200000e+01  8.000000e+00  2.000000e+00   \n",
       "75%    1.867700e+04         2.200000e+01  9.000000e+00  2.000000e+00   \n",
       "max    3.786000e+04         9.999000e+03  1.000000e+01  3.300000e+01   \n",
       "\n",
       "       my_rewatching  my_rewatching_ep  \n",
       "count   1.411264e+07      1.917195e+07  \n",
       "mean    1.202398e-03      2.989212e-01  \n",
       "std     3.465475e-02      1.289120e+03  \n",
       "min     0.000000e+00      0.000000e+00  \n",
       "25%     0.000000e+00      0.000000e+00  \n",
       "50%     0.000000e+00      0.000000e+00  \n",
       "75%     0.000000e+00      0.000000e+00  \n",
       "max     1.000000e+00      5.644513e+06  "
      ]
     },
     "execution_count": 7,
     "metadata": {},
     "output_type": "execute_result"
    }
   ],
   "source": [
    "full_df.describe()"
   ]
  },
  {
   "cell_type": "markdown",
   "metadata": {},
   "source": [
    "## Exploratory data analysis"
   ]
  },
  {
   "cell_type": "code",
   "execution_count": 9,
   "metadata": {},
   "outputs": [],
   "source": [
    "sns.set(rc = {'figure.figsize':(10,10)})"
   ]
  },
  {
   "cell_type": "code",
   "execution_count": 16,
   "metadata": {},
   "outputs": [
    {
     "data": {
      "image/png": "[encoded data removed]",
      "text/plain": [
       "<Figure size 1000x600 with 1 Axes>"
      ]
     },
     "metadata": {},
     "output_type": "display_data"
    }
   ],
   "source": [
    "# Step 1: Count the number of animes each user has watched\n",
    "user_anime_counts = full_df['username'].value_counts()\n",
    "\n",
    "# Step 2: Plot the distribution\n",
    "plt.figure(figsize=(10, 6))\n",
    "plt.hist(user_anime_counts, bins=100, edgecolor='k', alpha=0.7)\n",
    "plt.title('Distribution of Number of Animes Watched by Users')\n",
    "plt.xlabel('Number of Animes Watched')\n",
    "plt.ylabel('Number of Users')\n",
    "plt.grid(axis='y', alpha=0.75)\n",
    "plt.show()"
   ]
  },
  {
   "cell_type": "code",
   "execution_count": 7,
   "metadata": {},
   "outputs": [
    {
     "data": {
      "text/plain": [
       "_thiagobrisolla    3785\n",
       "misterferrari      3442\n",
       "Shouichirou        3439\n",
       "SakataYusuke       3383\n",
       "Kannei             3285\n",
       "                   ... \n",
       "psithurism            1\n",
       "shaz40                1\n",
       "karkat                1\n",
       "Miikan-chan           1\n",
       "hinogurl_mikha        1\n",
       "Name: username, Length: 106401, dtype: int64"
      ]
     },
     "execution_count": 7,
     "metadata": {},
     "output_type": "execute_result"
    }
   ],
   "source": [
    "full_df['username'].value_counts()"
   ]
  },
  {
   "cell_type": "code",
   "execution_count": 18,
   "metadata": {},
   "outputs": [
    {
     "name": "stderr",
     "output_type": "stream",
     "text": [
      "C:\\Users\\Mashal\\anaconda3\\lib\\site-packages\\seaborn\\_decorators.py:36: FutureWarning: Pass the following variable as a keyword arg: x. From version 0.12, the only valid positional argument will be `data`, and passing other arguments without an explicit keyword will result in an error or misinterpretation.\n",
      "  warnings.warn(\n",
      "No artists with labels found to put in legend.  Note that artists whose label start with an underscore are ignored when legend() is called with no argument.\n"
     ]
    },
    {
     "data": {
      "image/png": "[encoded data removed]",
      "text/plain": [
       "<Figure size 1000x1000 with 1 Axes>"
      ]
     },
     "metadata": {},
     "output_type": "display_data"
    }
   ],
   "source": [
    "sns.boxplot(user_anime_counts, palette=\"Set2\")\n",
    "plt.title('Boxplot of Price broken down by borough and room type', fontsize = 15)\n",
    "plt.xlabel('Neighbourhood Groups')\n",
    "plt.ylabel('Price')\n",
    "plt.legend(bbox_to_anchor=(1, 1))\n",
    "plt.show();"
   ]
  },
  {
   "cell_type": "code",
   "execution_count": 27,
   "metadata": {},
   "outputs": [
    {
     "data": {
      "text/html": [
       "<div>\n",
       "<style scoped>\n",
       "    .dataframe tbody tr th:only-of-type {\n",
       "        vertical-align: middle;\n",
       "    }\n",
       "\n",
       "    .dataframe tbody tr th {\n",
       "        vertical-align: top;\n",
       "    }\n",
       "\n",
       "    .dataframe thead th {\n",
       "        text-align: right;\n",
       "    }\n",
       "</style>\n",
       "<table border=\"1\" class=\"dataframe\">\n",
       "  <thead>\n",
       "    <tr style=\"text-align: right;\">\n",
       "      <th></th>\n",
       "      <th>username</th>\n",
       "      <th>anime_id</th>\n",
       "      <th>my_watched_episodes</th>\n",
       "      <th>my_start_date</th>\n",
       "      <th>my_finish_date</th>\n",
       "      <th>my_score</th>\n",
       "      <th>my_status</th>\n",
       "      <th>my_rewatching</th>\n",
       "      <th>my_rewatching_ep</th>\n",
       "      <th>my_last_updated</th>\n",
       "      <th>my_tags</th>\n",
       "    </tr>\n",
       "  </thead>\n",
       "  <tbody>\n",
       "    <tr>\n",
       "      <th>53</th>\n",
       "      <td>Damonashu</td>\n",
       "      <td>21</td>\n",
       "      <td>418</td>\n",
       "      <td>0000-00-00</td>\n",
       "      <td>0000-00-00</td>\n",
       "      <td>10</td>\n",
       "      <td>1</td>\n",
       "      <td>0.0</td>\n",
       "      <td>0</td>\n",
       "      <td>2009-09-30 07:39:05</td>\n",
       "      <td>NaN</td>\n",
       "    </tr>\n",
       "    <tr>\n",
       "      <th>55</th>\n",
       "      <td>Damonashu</td>\n",
       "      <td>249</td>\n",
       "      <td>167</td>\n",
       "      <td>0000-00-00</td>\n",
       "      <td>0000-00-00</td>\n",
       "      <td>4</td>\n",
       "      <td>2</td>\n",
       "      <td>0.0</td>\n",
       "      <td>0</td>\n",
       "      <td>1970-01-01 00:00:00</td>\n",
       "      <td>NaN</td>\n",
       "    </tr>\n",
       "    <tr>\n",
       "      <th>56</th>\n",
       "      <td>Damonashu</td>\n",
       "      <td>269</td>\n",
       "      <td>0</td>\n",
       "      <td>0000-00-00</td>\n",
       "      <td>0000-00-00</td>\n",
       "      <td>2</td>\n",
       "      <td>4</td>\n",
       "      <td>NaN</td>\n",
       "      <td>0</td>\n",
       "      <td>1970-01-01 00:00:00</td>\n",
       "      <td>NaN</td>\n",
       "    </tr>\n",
       "    <tr>\n",
       "      <th>57</th>\n",
       "      <td>Damonashu</td>\n",
       "      <td>853</td>\n",
       "      <td>26</td>\n",
       "      <td>0000-00-00</td>\n",
       "      <td>2009-07-31</td>\n",
       "      <td>6</td>\n",
       "      <td>2</td>\n",
       "      <td>0.0</td>\n",
       "      <td>0</td>\n",
       "      <td>2009-07-31 21:07:47</td>\n",
       "      <td>NaN</td>\n",
       "    </tr>\n",
       "    <tr>\n",
       "      <th>58</th>\n",
       "      <td>Damonashu</td>\n",
       "      <td>857</td>\n",
       "      <td>25</td>\n",
       "      <td>0000-00-00</td>\n",
       "      <td>2008-08-11</td>\n",
       "      <td>4</td>\n",
       "      <td>2</td>\n",
       "      <td>0.0</td>\n",
       "      <td>0</td>\n",
       "      <td>2008-08-11 17:45:54</td>\n",
       "      <td>NaN</td>\n",
       "    </tr>\n",
       "    <tr>\n",
       "      <th>...</th>\n",
       "      <td>...</td>\n",
       "      <td>...</td>\n",
       "      <td>...</td>\n",
       "      <td>...</td>\n",
       "      <td>...</td>\n",
       "      <td>...</td>\n",
       "      <td>...</td>\n",
       "      <td>...</td>\n",
       "      <td>...</td>\n",
       "      <td>...</td>\n",
       "      <td>...</td>\n",
       "    </tr>\n",
       "    <tr>\n",
       "      <th>31284025</th>\n",
       "      <td>Yokonightcore</td>\n",
       "      <td>15611</td>\n",
       "      <td>48</td>\n",
       "      <td>2014-00-00</td>\n",
       "      <td>0000-00-00</td>\n",
       "      <td>9</td>\n",
       "      <td>1</td>\n",
       "      <td>NaN</td>\n",
       "      <td>0</td>\n",
       "      <td>2015-09-07 17:33:03</td>\n",
       "      <td>NaN</td>\n",
       "    </tr>\n",
       "    <tr>\n",
       "      <th>31284026</th>\n",
       "      <td>Yokonightcore</td>\n",
       "      <td>27815</td>\n",
       "      <td>22</td>\n",
       "      <td>0000-00-00</td>\n",
       "      <td>0000-00-00</td>\n",
       "      <td>9</td>\n",
       "      <td>1</td>\n",
       "      <td>NaN</td>\n",
       "      <td>0</td>\n",
       "      <td>2015-09-07 17:32:05</td>\n",
       "      <td>NaN</td>\n",
       "    </tr>\n",
       "    <tr>\n",
       "      <th>31284027</th>\n",
       "      <td>wargod</td>\n",
       "      <td>5945</td>\n",
       "      <td>39</td>\n",
       "      <td>0000-00-00</td>\n",
       "      <td>0000-00-00</td>\n",
       "      <td>8</td>\n",
       "      <td>2</td>\n",
       "      <td>0.0</td>\n",
       "      <td>0</td>\n",
       "      <td>2010-03-29 04:24:12</td>\n",
       "      <td>NaN</td>\n",
       "    </tr>\n",
       "    <tr>\n",
       "      <th>31284028</th>\n",
       "      <td>JMc_SetoKai_LoVe</td>\n",
       "      <td>1316</td>\n",
       "      <td>52</td>\n",
       "      <td>0000-00-00</td>\n",
       "      <td>0000-00-00</td>\n",
       "      <td>9</td>\n",
       "      <td>2</td>\n",
       "      <td>NaN</td>\n",
       "      <td>0</td>\n",
       "      <td>2009-12-23 05:45:14</td>\n",
       "      <td>NaN</td>\n",
       "    </tr>\n",
       "    <tr>\n",
       "      <th>31284029</th>\n",
       "      <td>hinogurl_mikha</td>\n",
       "      <td>1744</td>\n",
       "      <td>58</td>\n",
       "      <td>0000-00-00</td>\n",
       "      <td>0000-00-00</td>\n",
       "      <td>10</td>\n",
       "      <td>1</td>\n",
       "      <td>0.0</td>\n",
       "      <td>0</td>\n",
       "      <td>2008-04-05 11:36:20</td>\n",
       "      <td>NaN</td>\n",
       "    </tr>\n",
       "  </tbody>\n",
       "</table>\n",
       "<p>19171897 rows × 11 columns</p>\n",
       "</div>"
      ],
      "text/plain": [
       "                  username  anime_id  my_watched_episodes my_start_date  \\\n",
       "53               Damonashu        21                  418    0000-00-00   \n",
       "55               Damonashu       249                  167    0000-00-00   \n",
       "56               Damonashu       269                    0    0000-00-00   \n",
       "57               Damonashu       853                   26    0000-00-00   \n",
       "58               Damonashu       857                   25    0000-00-00   \n",
       "...                    ...       ...                  ...           ...   \n",
       "31284025     Yokonightcore     15611                   48    2014-00-00   \n",
       "31284026     Yokonightcore     27815                   22    0000-00-00   \n",
       "31284027            wargod      5945                   39    0000-00-00   \n",
       "31284028  JMc_SetoKai_LoVe      1316                   52    0000-00-00   \n",
       "31284029    hinogurl_mikha      1744                   58    0000-00-00   \n",
       "\n",
       "         my_finish_date  my_score  my_status  my_rewatching  my_rewatching_ep  \\\n",
       "53           0000-00-00        10          1            0.0                 0   \n",
       "55           0000-00-00         4          2            0.0                 0   \n",
       "56           0000-00-00         2          4            NaN                 0   \n",
       "57           2009-07-31         6          2            0.0                 0   \n",
       "58           2008-08-11         4          2            0.0                 0   \n",
       "...                 ...       ...        ...            ...               ...   \n",
       "31284025     0000-00-00         9          1            NaN                 0   \n",
       "31284026     0000-00-00         9          1            NaN                 0   \n",
       "31284027     0000-00-00         8          2            0.0                 0   \n",
       "31284028     0000-00-00         9          2            NaN                 0   \n",
       "31284029     0000-00-00        10          1            0.0                 0   \n",
       "\n",
       "              my_last_updated my_tags  \n",
       "53        2009-09-30 07:39:05     NaN  \n",
       "55        1970-01-01 00:00:00     NaN  \n",
       "56        1970-01-01 00:00:00     NaN  \n",
       "57        2009-07-31 21:07:47     NaN  \n",
       "58        2008-08-11 17:45:54     NaN  \n",
       "...                       ...     ...  \n",
       "31284025  2015-09-07 17:33:03     NaN  \n",
       "31284026  2015-09-07 17:32:05     NaN  \n",
       "31284027  2010-03-29 04:24:12     NaN  \n",
       "31284028  2009-12-23 05:45:14     NaN  \n",
       "31284029  2008-04-05 11:36:20     NaN  \n",
       "\n",
       "[19171897 rows x 11 columns]"
      ]
     },
     "execution_count": 27,
     "metadata": {},
     "output_type": "execute_result"
    }
   ],
   "source": [
    "full_df[full_df['username'] != \"karthiga\"]"
   ]
  },
  {
   "cell_type": "markdown",
   "metadata": {},
   "source": [
    "Keep removing users at random until a user threshold is reached"
   ]
  },
  {
   "cell_type": "code",
   "execution_count": null,
   "metadata": {},
   "outputs": [],
   "source": [
    "# usernames = full_df['username'].unique()\n",
    "# np.random.shuffle(usernames)\n",
    "# limit = 10000\n",
    "# username_ind = 0\n",
    "# while len(full_df['username'].unique()) > limit:\n",
    "#     full_df = full_df[full_df['username'] != usernames[username_ind]]\n",
    "#     username_ind += 1"
   ]
  },
  {
   "cell_type": "code",
   "execution_count": 8,
   "metadata": {},
   "outputs": [
    {
     "name": "stdout",
     "output_type": "stream",
     "text": [
      "Original number of unique users: 106401\n",
      "Number of unique users after filtering: 1000\n",
      "        username  anime_id  my_watched_episodes my_start_date my_finish_date  \\\n",
      "9564  magedgamed        21                  688    0000-00-00     0000-00-00   \n",
      "9565  magedgamed        59                   26    0000-00-00     2016-08-12   \n",
      "9566  magedgamed       120                   26    2015-12-12     2015-12-13   \n",
      "9567  magedgamed       232                   70    0000-00-00     2016-03-21   \n",
      "9569  magedgamed       249                  167    0000-00-00     2017-02-05   \n",
      "\n",
      "      my_score  my_status  my_rewatching  my_rewatching_ep  \\\n",
      "9564         9          3            NaN                 0   \n",
      "9565         6          2            0.0                 0   \n",
      "9566         7          2            0.0                 0   \n",
      "9567         7          2            0.0                 0   \n",
      "9569         6          2            0.0                 0   \n",
      "\n",
      "          my_last_updated       my_tags  \n",
      "9564  2015-06-01 18:20:19           NaN  \n",
      "9565  2016-08-12 09:30:07      HEADER,   \n",
      "9566  2015-12-13 21:08:04  HEADER, lone  \n",
      "9567  2016-03-21 19:57:42      HEADER,   \n",
      "9569  2017-02-05 18:46:53      HEADER,   \n"
     ]
    }
   ],
   "source": [
    "# Get unique users\n",
    "unique_users = full_df['username'].unique()\n",
    "\n",
    "# Randomly select users to keep (10,000)\n",
    "num_users_to_keep = min(len(unique_users), 1000)  # Ensure we keep at most 10,000 users\n",
    "selected_users = np.random.choice(unique_users, size=num_users_to_keep, replace=False)\n",
    "\n",
    "# Filter the DataFrame to retain only rows with the selected users\n",
    "anime_df = full_df[full_df['username'].isin(selected_users)]\n",
    "\n",
    "print(f\"Original number of unique users: {len(unique_users)}\")\n",
    "print(f\"Number of unique users after filtering: {anime_df['username'].nunique()}\")\n",
    "print(anime_df.head())"
   ]
  },
  {
   "cell_type": "code",
   "execution_count": 9,
   "metadata": {},
   "outputs": [],
   "source": [
    "unique_ids = anime_df['anime_id'].unique()\n",
    "# Gets list of unique IDs and sorts them\n",
    "unique_ids = np.sort(unique_ids)\n",
    "# Contains translations from anime IDs to numpy array indices\n",
    "idToInd = {}\n",
    "# Initialises array to size of unique IDs, but will change contents to ascending order\n",
    "indToId = np.array(unique_ids)\n",
    "for i in range(len(unique_ids)):\n",
    "    idToInd[unique_ids[i]] = i\n",
    "    indToId[i] = unique_ids[i]"
   ]
  },
  {
   "cell_type": "markdown",
   "metadata": {},
   "source": [
    "Adds user ID column"
   ]
  },
  {
   "cell_type": "code",
   "execution_count": 10,
   "metadata": {},
   "outputs": [
    {
     "name": "stderr",
     "output_type": "stream",
     "text": [
      "C:\\Users\\Mashal\\AppData\\Local\\Temp\\ipykernel_67384\\278079498.py:1: SettingWithCopyWarning: \n",
      "A value is trying to be set on a copy of a slice from a DataFrame.\n",
      "Try using .loc[row_indexer,col_indexer] = value instead\n",
      "\n",
      "See the caveats in the documentation: https://pandas.pydata.org/pandas-docs/stable/user_guide/indexing.html#returning-a-view-versus-a-copy\n",
      "  anime_df['user_id'] = pd.factorize(anime_df['username'])[0]\n"
     ]
    }
   ],
   "source": [
    "anime_df['user_id'] = pd.factorize(anime_df['username'])[0]"
   ]
  },
  {
   "cell_type": "code",
   "execution_count": 11,
   "metadata": {
    "colab": {
     "base_uri": "https://localhost:8080/"
    },
    "id": "KlU-Lq16rlpN",
    "outputId": "652c555a-4e2e-478c-ebd5-bfb0dcb65eac"
   },
   "outputs": [
    {
     "data": {
      "text/plain": [
       "(                username  anime_id  my_watched_episodes my_start_date  \\\n",
       " 9009253        RaizenSun     27775                   13    0000-00-00   \n",
       " 24290223        elmis003     15583                   12    0000-00-00   \n",
       " 14269793           Yuu25      6922                    1    0000-00-00   \n",
       " 5960409      Mushinkeina     11013                   12    2012-05-16   \n",
       " 1778471             June       523                    1    0000-00-00   \n",
       " ...                  ...       ...                  ...           ...   \n",
       " 19102706  DeathwolfBigbo       379                   26    0000-00-00   \n",
       " 6213077   shadow_wolf_92     32188                    1    0000-00-00   \n",
       " 3604417        PsyQonaut     23605                   26    2018-04-01   \n",
       " 14825991       xxxfoxxxx     19951                    1    2015-08-29   \n",
       " 26554521   Halloween8182      2236                    1    0000-00-00   \n",
       " \n",
       "          my_finish_date  my_score  my_status  my_rewatching  my_rewatching_ep  \\\n",
       " 9009253      2015-07-01         7          2            0.0                 0   \n",
       " 24290223     0000-00-00         8          2            0.0                 0   \n",
       " 14269793     0000-00-00         7          2            0.0                 0   \n",
       " 5960409      2012-05-16         7          2            NaN                 0   \n",
       " 1778471      0000-00-00         7          2            0.0                 0   \n",
       " ...                 ...       ...        ...            ...               ...   \n",
       " 19102706     0000-00-00         8          2            0.0                 0   \n",
       " 6213077      0000-00-00         9          2            0.0                 0   \n",
       " 3604417      2018-04-07         8          2            0.0                 0   \n",
       " 14825991     2015-08-29         7          2            0.0                 0   \n",
       " 26554521     0000-00-00         8          2            0.0                 0   \n",
       " \n",
       "               my_last_updated                                        my_tags  \\\n",
       " 9009253   2015-07-01 14:27:26                                            NaN   \n",
       " 24290223  2013-07-13 17:46:46                                            NaN   \n",
       " 14269793  2016-04-04 14:15:57                                            NaN   \n",
       " 5960409   2012-05-17 03:14:23                                            NaN   \n",
       " 1778471   1970-01-01 00:00:00  Spirit World, Comedy, Slice of Life, Children   \n",
       " ...                       ...                                            ...   \n",
       " 19102706  2015-01-12 00:03:04                                            NaN   \n",
       " 6213077   2015-12-18 15:30:11                                            NaN   \n",
       " 3604417   2018-04-07 06:46:40                                            NaN   \n",
       " 14825991  2015-08-29 01:51:37                                            NaN   \n",
       " 26554521  2017-07-30 23:27:30                                            NaN   \n",
       " \n",
       "           user_id  \n",
       " 9009253       198  \n",
       " 24290223      594  \n",
       " 14269793      332  \n",
       " 5960409       123  \n",
       " 1778471        35  \n",
       " ...           ...  \n",
       " 19102706      454  \n",
       " 6213077       127  \n",
       " 3604417        74  \n",
       " 14825991      357  \n",
       " 26554521      694  \n",
       " \n",
       " [153080 rows x 12 columns],\n",
       "                 username  anime_id  my_watched_episodes my_start_date  \\\n",
       " 30413598         Flyffel     12117                    1    2014-04-20   \n",
       " 8747370       ShirouChan      6512                   12    2009-11-12   \n",
       " 17176572         Hacchin     21881                   24    0000-00-00   \n",
       " 2606013     changhyon_92     20473                   12    2013-10-22   \n",
       " 2934927      DarkViper84      1530                   24    0000-00-00   \n",
       " ...                  ...       ...                  ...           ...   \n",
       " 28134935  DiabolicMaster      7088                   12    0000-00-00   \n",
       " 27889808         Zidizei      4581                    4    2008-10-14   \n",
       " 31146345        chichidi       468                    1    0000-00-00   \n",
       " 26387944    KimberlyAnne      9513                    6    2011-01-11   \n",
       " 14269964           Yuu25     21415                    6    0000-00-00   \n",
       " \n",
       "          my_finish_date  my_score  my_status  my_rewatching  my_rewatching_ep  \\\n",
       " 30413598     2014-04-20         7          2            NaN                 0   \n",
       " 8747370      2010-03-07         9          2            0.0                 0   \n",
       " 17176572     0000-00-00         5          2            0.0                 0   \n",
       " 2606013      2013-12-22         7          2            NaN                 0   \n",
       " 2934927      2011-05-29         9          2            0.0                 0   \n",
       " ...                 ...       ...        ...            ...               ...   \n",
       " 28134935     2015-07-11         9          2            0.0                 0   \n",
       " 27889808     0000-00-00         7          1            0.0                 0   \n",
       " 31146345     0000-00-00         9          2            0.0                 0   \n",
       " 26387944     0000-00-00         8          4            NaN                 0   \n",
       " 14269964     0000-00-00         6          2            0.0                 0   \n",
       " \n",
       "               my_last_updated my_tags  user_id  \n",
       " 30413598  2014-04-20 21:23:44     NaN      896  \n",
       " 8747370   2010-03-07 18:06:11     NaN      188  \n",
       " 17176572  2018-01-27 12:31:26     NaN      410  \n",
       " 2606013   2013-12-23 06:16:36     NaN       50  \n",
       " 2934927   2011-05-29 19:14:34     NaN       56  \n",
       " ...                       ...     ...      ...  \n",
       " 28134935  2015-07-11 10:35:22     NaN      777  \n",
       " 27889808  2009-02-01 17:14:52     NaN      753  \n",
       " 31146345  2011-06-12 08:44:50     NaN      945  \n",
       " 26387944  2011-03-06 15:37:17     NaN      687  \n",
       " 14269964  2016-04-04 14:40:15     NaN      332  \n",
       " \n",
       " [38271 rows x 12 columns])"
      ]
     },
     "execution_count": 11,
     "metadata": {},
     "output_type": "execute_result"
    }
   ],
   "source": [
    "train_df, test_df = train_test_split(anime_df, test_size=0.2)\n",
    "train_df, test_df"
   ]
  },
  {
   "cell_type": "code",
   "execution_count": 11,
   "metadata": {},
   "outputs": [
    {
     "name": "stdout",
     "output_type": "stream",
     "text": [
      "Pandas(Index=27830841, username='Shortredguy', anime_id=5682, my_watched_episodes=0, my_start_date='0000-00-00', my_finish_date='0000-00-00', my_score=0, my_status=6, my_rewatching=0.0, my_rewatching_ep=0, my_last_updated='2010-12-21 01:19:25', my_tags=nan, user_id=6361)\n"
     ]
    }
   ],
   "source": [
    "for row in train_df.itertuples():\n",
    "    print(row)\n",
    "    break"
   ]
  },
  {
   "cell_type": "code",
   "execution_count": 12,
   "metadata": {},
   "outputs": [
    {
     "name": "stdout",
     "output_type": "stream",
     "text": [
      "('username', 'anime_id', 'my_watched_episodes', 'my_start_date', 'my_finish_date', 'my_score', 'my_status', 'my_rewatching', 'my_rewatching_ep', 'my_last_updated', 'my_tags', 'user_id')\n"
     ]
    }
   ],
   "source": [
    "print(train_df.itertuples(index=False).__next__()._fields)\n"
   ]
  },
  {
   "cell_type": "code",
   "execution_count": 13,
   "metadata": {},
   "outputs": [
    {
     "data": {
      "text/html": [
       "<div>\n",
       "<style scoped>\n",
       "    .dataframe tbody tr th:only-of-type {\n",
       "        vertical-align: middle;\n",
       "    }\n",
       "\n",
       "    .dataframe tbody tr th {\n",
       "        vertical-align: top;\n",
       "    }\n",
       "\n",
       "    .dataframe thead th {\n",
       "        text-align: right;\n",
       "    }\n",
       "</style>\n",
       "<table border=\"1\" class=\"dataframe\">\n",
       "  <thead>\n",
       "    <tr style=\"text-align: right;\">\n",
       "      <th></th>\n",
       "      <th>username</th>\n",
       "      <th>anime_id</th>\n",
       "      <th>my_watched_episodes</th>\n",
       "      <th>my_start_date</th>\n",
       "      <th>my_finish_date</th>\n",
       "      <th>my_score</th>\n",
       "      <th>my_status</th>\n",
       "      <th>my_rewatching</th>\n",
       "      <th>my_rewatching_ep</th>\n",
       "      <th>my_last_updated</th>\n",
       "      <th>my_tags</th>\n",
       "      <th>user_id</th>\n",
       "    </tr>\n",
       "  </thead>\n",
       "  <tbody>\n",
       "  </tbody>\n",
       "</table>\n",
       "</div>"
      ],
      "text/plain": [
       "Empty DataFrame\n",
       "Columns: [username, anime_id, my_watched_episodes, my_start_date, my_finish_date, my_score, my_status, my_rewatching, my_rewatching_ep, my_last_updated, my_tags, user_id]\n",
       "Index: []"
      ]
     },
     "execution_count": 13,
     "metadata": {},
     "output_type": "execute_result"
    }
   ],
   "source": [
    "anime_df[(anime_df['user_id']==40352)] #  & (anime_df['anime_id']==indToId[3])"
   ]
  },
  {
   "cell_type": "code",
   "execution_count": 12,
   "metadata": {},
   "outputs": [],
   "source": [
    "n_users = anime_df['user_id'].nunique()\n",
    "n_items = anime_df['anime_id'].nunique()"
   ]
  },
  {
   "cell_type": "code",
   "execution_count": 13,
   "metadata": {},
   "outputs": [
    {
     "data": {
      "text/html": [
       "<div>\n",
       "<style scoped>\n",
       "    .dataframe tbody tr th:only-of-type {\n",
       "        vertical-align: middle;\n",
       "    }\n",
       "\n",
       "    .dataframe tbody tr th {\n",
       "        vertical-align: top;\n",
       "    }\n",
       "\n",
       "    .dataframe thead th {\n",
       "        text-align: right;\n",
       "    }\n",
       "</style>\n",
       "<table border=\"1\" class=\"dataframe\">\n",
       "  <thead>\n",
       "    <tr style=\"text-align: right;\">\n",
       "      <th></th>\n",
       "      <th>username</th>\n",
       "      <th>anime_id</th>\n",
       "      <th>my_watched_episodes</th>\n",
       "      <th>my_start_date</th>\n",
       "      <th>my_finish_date</th>\n",
       "      <th>my_score</th>\n",
       "      <th>my_status</th>\n",
       "      <th>my_rewatching</th>\n",
       "      <th>my_rewatching_ep</th>\n",
       "      <th>my_last_updated</th>\n",
       "      <th>my_tags</th>\n",
       "      <th>user_id</th>\n",
       "    </tr>\n",
       "  </thead>\n",
       "  <tbody>\n",
       "    <tr>\n",
       "      <th>9990</th>\n",
       "      <td>magedgamed</td>\n",
       "      <td>34280</td>\n",
       "      <td>12</td>\n",
       "      <td>0000-00-00</td>\n",
       "      <td>2017-10-30</td>\n",
       "      <td>7</td>\n",
       "      <td>2</td>\n",
       "      <td>0.0</td>\n",
       "      <td>0</td>\n",
       "      <td>2017-10-29 22:05:07</td>\n",
       "      <td>HEADER, lone</td>\n",
       "      <td>0</td>\n",
       "    </tr>\n",
       "    <tr>\n",
       "      <th>9929</th>\n",
       "      <td>magedgamed</td>\n",
       "      <td>24833</td>\n",
       "      <td>22</td>\n",
       "      <td>0000-00-00</td>\n",
       "      <td>2015-09-17</td>\n",
       "      <td>9</td>\n",
       "      <td>2</td>\n",
       "      <td>0.0</td>\n",
       "      <td>0</td>\n",
       "      <td>2015-09-17 15:36:39</td>\n",
       "      <td>HEADER,</td>\n",
       "      <td>0</td>\n",
       "    </tr>\n",
       "    <tr>\n",
       "      <th>9800</th>\n",
       "      <td>magedgamed</td>\n",
       "      <td>10793</td>\n",
       "      <td>22</td>\n",
       "      <td>0000-00-00</td>\n",
       "      <td>0000-00-00</td>\n",
       "      <td>8</td>\n",
       "      <td>2</td>\n",
       "      <td>0.0</td>\n",
       "      <td>0</td>\n",
       "      <td>2016-04-24 16:50:10</td>\n",
       "      <td>HEADER, lone</td>\n",
       "      <td>0</td>\n",
       "    </tr>\n",
       "    <tr>\n",
       "      <th>9877</th>\n",
       "      <td>magedgamed</td>\n",
       "      <td>17247</td>\n",
       "      <td>12</td>\n",
       "      <td>0000-00-00</td>\n",
       "      <td>0000-00-00</td>\n",
       "      <td>6</td>\n",
       "      <td>2</td>\n",
       "      <td>0.0</td>\n",
       "      <td>0</td>\n",
       "      <td>2015-03-21 22:54:40</td>\n",
       "      <td>HEADER, lone</td>\n",
       "      <td>0</td>\n",
       "    </tr>\n",
       "    <tr>\n",
       "      <th>10509</th>\n",
       "      <td>magedgamed</td>\n",
       "      <td>455</td>\n",
       "      <td>26</td>\n",
       "      <td>0000-00-00</td>\n",
       "      <td>0000-00-00</td>\n",
       "      <td>8</td>\n",
       "      <td>2</td>\n",
       "      <td>0.0</td>\n",
       "      <td>0</td>\n",
       "      <td>2017-02-11 14:16:17</td>\n",
       "      <td>HEADER, lone</td>\n",
       "      <td>0</td>\n",
       "    </tr>\n",
       "    <tr>\n",
       "      <th>...</th>\n",
       "      <td>...</td>\n",
       "      <td>...</td>\n",
       "      <td>...</td>\n",
       "      <td>...</td>\n",
       "      <td>...</td>\n",
       "      <td>...</td>\n",
       "      <td>...</td>\n",
       "      <td>...</td>\n",
       "      <td>...</td>\n",
       "      <td>...</td>\n",
       "      <td>...</td>\n",
       "      <td>...</td>\n",
       "    </tr>\n",
       "    <tr>\n",
       "      <th>31281858</th>\n",
       "      <td>bunnyboo5345</td>\n",
       "      <td>1642</td>\n",
       "      <td>51</td>\n",
       "      <td>0000-00-00</td>\n",
       "      <td>0000-00-00</td>\n",
       "      <td>10</td>\n",
       "      <td>2</td>\n",
       "      <td>0.0</td>\n",
       "      <td>0</td>\n",
       "      <td>2014-04-15 04:22:45</td>\n",
       "      <td>NaN</td>\n",
       "      <td>997</td>\n",
       "    </tr>\n",
       "    <tr>\n",
       "      <th>31281853</th>\n",
       "      <td>bunnyboo5345</td>\n",
       "      <td>7645</td>\n",
       "      <td>49</td>\n",
       "      <td>0000-00-00</td>\n",
       "      <td>0000-00-00</td>\n",
       "      <td>10</td>\n",
       "      <td>2</td>\n",
       "      <td>0.0</td>\n",
       "      <td>0</td>\n",
       "      <td>2014-04-15 04:10:18</td>\n",
       "      <td>NaN</td>\n",
       "      <td>997</td>\n",
       "    </tr>\n",
       "    <tr>\n",
       "      <th>31283506</th>\n",
       "      <td>murasakigirl7</td>\n",
       "      <td>532</td>\n",
       "      <td>38</td>\n",
       "      <td>2008-12-07</td>\n",
       "      <td>2008-12-07</td>\n",
       "      <td>10</td>\n",
       "      <td>2</td>\n",
       "      <td>0.0</td>\n",
       "      <td>0</td>\n",
       "      <td>2008-12-07 20:36:47</td>\n",
       "      <td>NaN</td>\n",
       "      <td>998</td>\n",
       "    </tr>\n",
       "    <tr>\n",
       "      <th>31283910</th>\n",
       "      <td>Animeangel54</td>\n",
       "      <td>7334</td>\n",
       "      <td>39</td>\n",
       "      <td>2012-01-06</td>\n",
       "      <td>2012-01-11</td>\n",
       "      <td>9</td>\n",
       "      <td>2</td>\n",
       "      <td>0.0</td>\n",
       "      <td>0</td>\n",
       "      <td>2012-06-09 14:28:39</td>\n",
       "      <td>NaN</td>\n",
       "      <td>999</td>\n",
       "    </tr>\n",
       "    <tr>\n",
       "      <th>31283909</th>\n",
       "      <td>Animeangel54</td>\n",
       "      <td>5337</td>\n",
       "      <td>52</td>\n",
       "      <td>2012-02-10</td>\n",
       "      <td>2012-02-14</td>\n",
       "      <td>10</td>\n",
       "      <td>2</td>\n",
       "      <td>0.0</td>\n",
       "      <td>0</td>\n",
       "      <td>2012-06-09 14:32:26</td>\n",
       "      <td>NaN</td>\n",
       "      <td>999</td>\n",
       "    </tr>\n",
       "  </tbody>\n",
       "</table>\n",
       "<p>153080 rows × 12 columns</p>\n",
       "</div>"
      ],
      "text/plain": [
       "               username  anime_id  my_watched_episodes my_start_date  \\\n",
       "9990         magedgamed     34280                   12    0000-00-00   \n",
       "9929         magedgamed     24833                   22    0000-00-00   \n",
       "9800         magedgamed     10793                   22    0000-00-00   \n",
       "9877         magedgamed     17247                   12    0000-00-00   \n",
       "10509        magedgamed       455                   26    0000-00-00   \n",
       "...                 ...       ...                  ...           ...   \n",
       "31281858   bunnyboo5345      1642                   51    0000-00-00   \n",
       "31281853   bunnyboo5345      7645                   49    0000-00-00   \n",
       "31283506  murasakigirl7       532                   38    2008-12-07   \n",
       "31283910   Animeangel54      7334                   39    2012-01-06   \n",
       "31283909   Animeangel54      5337                   52    2012-02-10   \n",
       "\n",
       "         my_finish_date  my_score  my_status  my_rewatching  my_rewatching_ep  \\\n",
       "9990         2017-10-30         7          2            0.0                 0   \n",
       "9929         2015-09-17         9          2            0.0                 0   \n",
       "9800         0000-00-00         8          2            0.0                 0   \n",
       "9877         0000-00-00         6          2            0.0                 0   \n",
       "10509        0000-00-00         8          2            0.0                 0   \n",
       "...                 ...       ...        ...            ...               ...   \n",
       "31281858     0000-00-00        10          2            0.0                 0   \n",
       "31281853     0000-00-00        10          2            0.0                 0   \n",
       "31283506     2008-12-07        10          2            0.0                 0   \n",
       "31283910     2012-01-11         9          2            0.0                 0   \n",
       "31283909     2012-02-14        10          2            0.0                 0   \n",
       "\n",
       "              my_last_updated       my_tags  user_id  \n",
       "9990      2017-10-29 22:05:07  HEADER, lone        0  \n",
       "9929      2015-09-17 15:36:39      HEADER,         0  \n",
       "9800      2016-04-24 16:50:10  HEADER, lone        0  \n",
       "9877      2015-03-21 22:54:40  HEADER, lone        0  \n",
       "10509     2017-02-11 14:16:17  HEADER, lone        0  \n",
       "...                       ...           ...      ...  \n",
       "31281858  2014-04-15 04:22:45           NaN      997  \n",
       "31281853  2014-04-15 04:10:18           NaN      997  \n",
       "31283506  2008-12-07 20:36:47           NaN      998  \n",
       "31283910  2012-06-09 14:28:39           NaN      999  \n",
       "31283909  2012-06-09 14:32:26           NaN      999  \n",
       "\n",
       "[153080 rows x 12 columns]"
      ]
     },
     "execution_count": 13,
     "metadata": {},
     "output_type": "execute_result"
    }
   ],
   "source": [
    "train_df.sort_values(by='user_id')"
   ]
  },
  {
   "cell_type": "code",
   "execution_count": 14,
   "metadata": {},
   "outputs": [
    {
     "data": {
      "text/plain": [
       "(     0     1     2     3     4     5     6     7     8     9     ...  5437  \\\n",
       " 0     8.0   0.0   7.0   0.0   0.0   0.0   8.0   0.0   0.0   9.0  ...   0.0   \n",
       " 1     0.0   0.0   0.0   0.0   0.0   0.0   0.0   0.0   0.0   0.0  ...   0.0   \n",
       " 2     9.0   0.0   0.0   0.0   0.0   8.0   0.0   0.0   0.0   0.0  ...   0.0   \n",
       " 3     7.0   6.0   7.0   0.0   0.0   0.0   0.0   0.0   0.0   0.0  ...   0.0   \n",
       " 4     9.0   0.0   0.0   0.0   0.0   9.0   0.0   0.0   8.0   9.0  ...   0.0   \n",
       " ..    ...   ...   ...   ...   ...   ...   ...   ...   ...   ...  ...   ...   \n",
       " 995   0.0   0.0   0.0   0.0   0.0   0.0   0.0   0.0   0.0   0.0  ...   0.0   \n",
       " 996   0.0   0.0   0.0   0.0   0.0   0.0   0.0   0.0   0.0   0.0  ...   0.0   \n",
       " 997   0.0   0.0   0.0   0.0   0.0   0.0   0.0   0.0   0.0   0.0  ...   0.0   \n",
       " 998   0.0   0.0   0.0   0.0   0.0   0.0   0.0   0.0   0.0   0.0  ...   0.0   \n",
       " 999   0.0   0.0   0.0   0.0   0.0   0.0   0.0   0.0   0.0   0.0  ...   0.0   \n",
       " \n",
       "      5438  5439  5440  5441  5442  5443  5444  5445  5446  \n",
       " 0     0.0   0.0   0.0   0.0   0.0   0.0   0.0   0.0   0.0  \n",
       " 1     0.0   0.0   0.0   0.0   0.0   0.0   0.0   0.0   0.0  \n",
       " 2     0.0   0.0   0.0   0.0   0.0   0.0   0.0   0.0   0.0  \n",
       " 3     0.0   0.0   0.0   0.0   0.0   0.0   0.0   0.0   0.0  \n",
       " 4     0.0   0.0   0.0   0.0   0.0   0.0   0.0   0.0   0.0  \n",
       " ..    ...   ...   ...   ...   ...   ...   ...   ...   ...  \n",
       " 995   0.0   0.0   0.0   0.0   0.0   0.0   0.0   0.0   0.0  \n",
       " 996   0.0   0.0   0.0   0.0   0.0   0.0   0.0   0.0   0.0  \n",
       " 997   0.0   0.0   0.0   0.0   0.0   0.0   0.0   0.0   0.0  \n",
       " 998   0.0   0.0   0.0   0.0   0.0   0.0   0.0   0.0   0.0  \n",
       " 999   0.0   0.0   0.0   0.0   0.0   0.0   0.0   0.0   0.0  \n",
       " \n",
       " [1000 rows x 5447 columns],\n",
       "      0     1     2     3     4     5     6     7     8     9     ...  5437  \\\n",
       " 0     0.0   8.0   0.0   0.0   0.0   8.0   0.0   0.0   0.0   0.0  ...   0.0   \n",
       " 1     0.0   0.0   8.0   0.0   0.0   0.0   0.0   0.0   0.0   0.0  ...   0.0   \n",
       " 2     0.0   0.0  10.0   0.0   0.0   0.0   0.0   0.0   0.0   0.0  ...   0.0   \n",
       " 3     0.0   0.0   0.0   0.0   0.0   0.0  10.0   0.0   0.0   0.0  ...   0.0   \n",
       " 4     0.0   0.0   0.0   0.0   0.0   0.0   0.0   0.0   0.0   0.0  ...   0.0   \n",
       " ..    ...   ...   ...   ...   ...   ...   ...   ...   ...   ...  ...   ...   \n",
       " 995   0.0   0.0   0.0   0.0   0.0   0.0   0.0   0.0   0.0   0.0  ...   0.0   \n",
       " 996   0.0   0.0   0.0   0.0   0.0   0.0   0.0   0.0   0.0   0.0  ...   0.0   \n",
       " 997   0.0   0.0   0.0   0.0   0.0   0.0   0.0   0.0   0.0   0.0  ...   0.0   \n",
       " 998   0.0   0.0   0.0   0.0   0.0   0.0   0.0   0.0   0.0   0.0  ...   0.0   \n",
       " 999   0.0   0.0   0.0   0.0   0.0   0.0   0.0   0.0   0.0   0.0  ...   0.0   \n",
       " \n",
       "      5438  5439  5440  5441  5442  5443  5444  5445  5446  \n",
       " 0     0.0   0.0   0.0   0.0   0.0   0.0   0.0   0.0   0.0  \n",
       " 1     0.0   0.0   0.0   0.0   0.0   0.0   0.0   0.0   0.0  \n",
       " 2     0.0   0.0   0.0   0.0   0.0   0.0   0.0   0.0   0.0  \n",
       " 3     0.0   0.0   0.0   0.0   0.0   0.0   0.0   0.0   0.0  \n",
       " 4     0.0   0.0   0.0   0.0   0.0   0.0   0.0   0.0   0.0  \n",
       " ..    ...   ...   ...   ...   ...   ...   ...   ...   ...  \n",
       " 995   0.0   0.0   0.0   0.0   0.0   0.0   0.0   0.0   0.0  \n",
       " 996   0.0   0.0   0.0   0.0   0.0   0.0   0.0   0.0   0.0  \n",
       " 997   0.0   0.0   0.0   0.0   0.0   0.0   0.0   0.0   0.0  \n",
       " 998   0.0   0.0   0.0   0.0   0.0   0.0   0.0   0.0   0.0  \n",
       " 999   0.0   0.0   0.0   0.0   0.0   0.0   0.0   0.0   0.0  \n",
       " \n",
       " [1000 rows x 5447 columns])"
      ]
     },
     "execution_count": 14,
     "metadata": {},
     "output_type": "execute_result"
    }
   ],
   "source": [
    "# Training dataset\n",
    "train_ds = np.zeros((n_users, n_items))\n",
    "for row in train_df.itertuples():\n",
    "    train_ds[row.user_id, idToInd[row.anime_id]] = row.my_score\n",
    "train_ds = pd.DataFrame(train_ds)\n",
    "\n",
    "# Testing dataset\n",
    "test_ds = np.zeros((n_users, n_items))\n",
    "for row in test_df.itertuples():\n",
    "    test_ds[row.user_id, idToInd[row.anime_id]] = row.my_score\n",
    "test_ds = pd.DataFrame(test_ds)\n",
    "\n",
    "train_ds, test_ds"
   ]
  },
  {
   "cell_type": "markdown",
   "metadata": {
    "id": "E1ffZ6fCjYQ7"
   },
   "source": [
    "# Fitting the Algorithm"
   ]
  },
  {
   "cell_type": "markdown",
   "metadata": {
    "id": "DYJZT1keazuc"
   },
   "source": [
    "## User-based"
   ]
  },
  {
   "cell_type": "markdown",
   "metadata": {
    "id": "3bf9Ksc2OlL1"
   },
   "source": [
    "### Compute Pearson Correlation Coefficient for Each Pair of Users in Training Dataset"
   ]
  },
  {
   "cell_type": "code",
   "execution_count": 15,
   "metadata": {
    "colab": {
     "base_uri": "https://localhost:8080/"
    },
    "id": "SH3O2sX3iBx1",
    "outputId": "7f163ae0-1a1c-4012-e856-c51666c5a7fe"
   },
   "outputs": [
    {
     "data": {
      "text/plain": [
       "array([[ 1.00000000e+00,  5.03061363e-01,  2.24522400e-01, ...,\n",
       "         0.00000000e+00,  0.00000000e+00,  0.00000000e+00],\n",
       "       [ 5.03061363e-01,  1.00000000e+00, -1.32513908e-03, ...,\n",
       "         3.33333333e-02,  0.00000000e+00,  0.00000000e+00],\n",
       "       [ 2.24522400e-01, -1.32513908e-03,  1.00000000e+00, ...,\n",
       "        -3.43213766e-02,  0.00000000e+00,  0.00000000e+00],\n",
       "       ...,\n",
       "       [ 0.00000000e+00,  3.33333333e-02, -3.43213766e-02, ...,\n",
       "         7.00000000e-01,  0.00000000e+00,  0.00000000e+00],\n",
       "       [ 0.00000000e+00,  0.00000000e+00,  0.00000000e+00, ...,\n",
       "         0.00000000e+00,  3.33333355e-09,  0.00000000e+00],\n",
       "       [ 0.00000000e+00,  0.00000000e+00,  0.00000000e+00, ...,\n",
       "         0.00000000e+00,  0.00000000e+00,  6.66666665e-02]])"
      ]
     },
     "execution_count": 15,
     "metadata": {},
     "output_type": "execute_result"
    }
   ],
   "source": [
    "GAMMA = 30\n",
    "EPSILON = 1e-9\n",
    "\n",
    "np_user_pearson_corr = np.zeros((n_users, n_users))\n",
    "\n",
    "for i, user_i_vec in enumerate(train_ds.values):\n",
    "    for j, user_j_vec in enumerate(train_ds.values):\n",
    "\n",
    "        # ratings corated by the current pair od users\n",
    "        mask_i = user_i_vec > 0\n",
    "        mask_j = user_j_vec > 0\n",
    "\n",
    "        # corrated item index, skip if there are no corrated ratings\n",
    "        corrated_index = np.intersect1d(np.where(mask_i), np.where(mask_j))\n",
    "        if len(corrated_index) == 0:\n",
    "            continue\n",
    "\n",
    "        # average value of user_i_vec and user_j_vec\n",
    "        mean_user_i = np.sum(user_i_vec) / (np.sum(np.clip(user_i_vec, 0, 1)) + EPSILON)\n",
    "        mean_user_j = np.sum(user_j_vec) / (np.sum(np.clip(user_j_vec, 0, 1)) + EPSILON)\n",
    "\n",
    "        # compute pearson corr\n",
    "        user_i_sub_mean = user_i_vec[corrated_index] - mean_user_i\n",
    "        user_j_sub_mean = user_j_vec[corrated_index] - mean_user_j\n",
    "\n",
    "        r_ui_sub_r_i_sq = np.square(user_i_sub_mean)\n",
    "        r_uj_sub_r_j_sq = np.square(user_j_sub_mean)\n",
    "\n",
    "        r_ui_sum_sqrt = np.sqrt(np.sum(r_ui_sub_r_i_sq))\n",
    "        r_uj_sum_sqrt = np.sqrt(np.sum(r_uj_sub_r_j_sq))\n",
    "\n",
    "        sim = np.sum(user_i_sub_mean * user_j_sub_mean) / (r_ui_sum_sqrt * r_uj_sum_sqrt + EPSILON)\n",
    "\n",
    "        # significance weighting\n",
    "        weighted_sim = (min(len(corrated_index), GAMMA) / GAMMA) * sim\n",
    "\n",
    "        np_user_pearson_corr[i][j] = weighted_sim\n",
    "\n",
    "np_user_pearson_corr"
   ]
  },
  {
   "cell_type": "markdown",
   "metadata": {
    "id": "7OxHrFpIEHYm"
   },
   "source": [
    "### Predict Ratings"
   ]
  },
  {
   "cell_type": "code",
   "execution_count": 16,
   "metadata": {
    "id": "Z-REE2zqj5rt"
   },
   "outputs": [],
   "source": [
    "np_predictions = np.zeros((n_users, n_items))\n",
    "\n",
    "K = 100\n",
    "EPSILON = 1e-9\n",
    "\n",
    "for (i, j), rating in np.ndenumerate(test_ds.values):\n",
    "    if rating > 0:\n",
    "        # find top-k most similar users as the current user, remove itself\n",
    "        sim_user_ids = np.argsort(np_user_pearson_corr[i])[-(K + 1):-1]\n",
    "\n",
    "        # the coefficient values of similar users\n",
    "        sim_val = np_user_pearson_corr[i][sim_user_ids]\n",
    "\n",
    "        # the average value of the current user's ratings\n",
    "        sim_users = train_ds.values[sim_user_ids]\n",
    "        user_mean = np.sum(train_ds.values[i]) / (np.sum(np.clip(train_ds.values[i], 0, 1)) + EPSILON)\n",
    "        sim_user_mean = np.sum(sim_users, axis=1) / (np.sum(np.clip(sim_users, 0, 1), axis=1) + EPSILON)\n",
    "\n",
    "        # select the users who rated item j\n",
    "        mask_rated_j = sim_users[:, j] > 0\n",
    "        \n",
    "        # sim(u, v) * (r_vj - mean_v)\n",
    "        sim_r_sum_mean = sim_val[mask_rated_j] * (sim_users[mask_rated_j, j] - sim_user_mean[mask_rated_j])\n",
    "\n",
    "        # filter unrated items\n",
    "        #w = np.clip(sim_users[mask_rated_j, j], 0, 1)\n",
    "        #sim_r_sum_mean *= w\n",
    "        #print(sim_users[:, j])\n",
    "        \n",
    "        np_predictions[i][j] = user_mean + np.sum(sim_r_sum_mean) / (np.sum(sim_val[mask_rated_j]) + EPSILON)\n",
    "        np_predictions[i][j] = np.clip(np_predictions[i][j], 0, 5)\n",
    "    "
   ]
  },
  {
   "cell_type": "markdown",
   "metadata": {
    "id": "tiPKuFjQudyM"
   },
   "source": [
    "### Evaluation"
   ]
  },
  {
   "cell_type": "markdown",
   "metadata": {
    "id": "gQZSW98ZGDJR"
   },
   "source": [
    "#### Mean Absolute Error (MAE)"
   ]
  },
  {
   "cell_type": "code",
   "execution_count": 18,
   "metadata": {
    "colab": {
     "base_uri": "https://localhost:8080/"
    },
    "id": "20UzmEf9uhF_",
    "outputId": "94c5c749-6a8c-449c-ba64-eff5427ffcd4"
   },
   "outputs": [
    {
     "name": "stdout",
     "output_type": "stream",
     "text": [
      "MAE on Tesing set (User-based): 2.787752858583107\n"
     ]
    }
   ],
   "source": [
    "#==================MAE on Testing set===================#\n",
    "labels = test_ds.values\n",
    "\n",
    "# absolute error on all ratings\n",
    "absolute_error = np.abs(np_predictions - labels)\n",
    "\n",
    "# weight\n",
    "weight = np.clip(labels, 0, 1)\n",
    "\n",
    "# absoulte error on rated ratings\n",
    "abs_error = absolute_error * weight\n",
    "\n",
    "# MAE\n",
    "MAE = np.sum(abs_error) / np.sum(weight)\n",
    "\n",
    "print(\"MAE on Tesing set (User-based): \" + str(MAE));"
   ]
  },
  {
   "cell_type": "markdown",
   "metadata": {
    "id": "j_L7yqJ4HXJa"
   },
   "source": [
    "#### Root Mean Squared Error (RMSE)"
   ]
  },
  {
   "cell_type": "code",
   "execution_count": 17,
   "metadata": {
    "colab": {
     "base_uri": "https://localhost:8080/"
    },
    "id": "mV-BhWhQvtAV",
    "outputId": "dd88af28-6ae9-49e6-fe5c-9077cc345470"
   },
   "outputs": [
    {
     "name": "stdout",
     "output_type": "stream",
     "text": [
      "RMSE on Tesing set (User-based): 3.118499482881684\n"
     ]
    }
   ],
   "source": [
    "#==================RMSE on Testing set===================\n",
    "labels = test_ds.values\n",
    "\n",
    "# squared error on all ratings\n",
    "squared_error = np.square(np_predictions - labels)\n",
    "weight = np.clip(labels, 0, 1)\n",
    "\n",
    "# squared error on rated ratings\n",
    "squared_error = squared_error * weight\n",
    "\n",
    "# RMSE\n",
    "RMSE = np.sqrt(np.sum(squared_error) / np.sum(weight))\n",
    "\n",
    "print(\"RMSE on Tesing set (User-based): \" + str(RMSE));"
   ]
  },
  {
   "cell_type": "markdown",
   "metadata": {
    "id": "ecoieIQTbQZV"
   },
   "source": [
    "## Item-based"
   ]
  },
  {
   "cell_type": "markdown",
   "metadata": {
    "id": "4XHtJ0LpbQZW"
   },
   "source": [
    "### Compute Pearson Correlation Coefficient for Each Pair of Users in Training Dataset"
   ]
  },
  {
   "cell_type": "code",
   "execution_count": null,
   "metadata": {
    "colab": {
     "base_uri": "https://localhost:8080/"
    },
    "id": "KgPMV2sobQZW",
    "outputId": "97f5fec9-ce61-4df0-c7c4-050485aa78d3"
   },
   "outputs": [],
   "source": [
    "DELTA = 25\n",
    "EPSILON = 1e-9\n",
    "\n",
    "np_item_pearson_corr = np.zeros((n_items, n_items))\n",
    "\n",
    "for i, item_i_vec in enumerate(train_ds.T.values):\n",
    "    for j, item_j_vec in enumerate(train_ds.T.values):\n",
    "\n",
    "        # ratings corated by the current pair od items\n",
    "        mask_i = item_i_vec > 0\n",
    "        mask_j = item_j_vec > 0\n",
    "\n",
    "        # corrated index, skip if there are no corrated ratings\n",
    "        corrated_index = np.intersect1d(np.where(mask_i), np.where(mask_j))\n",
    "        if len(corrated_index) == 0:\n",
    "            continue\n",
    "\n",
    "        # average value of item_i_vec and item_j_vec\n",
    "        mean_item_i = np.sum(item_i_vec) / (np.sum(np.clip(item_i_vec, 0, 1)) + EPSILON)\n",
    "        mean_item_j = np.sum(item_j_vec) / (np.sum(np.clip(item_j_vec, 0, 1)) + EPSILON)\n",
    "\n",
    "        # compute pearson corr\n",
    "        item_i_sub_mean = item_i_vec[corrated_index] - mean_item_i\n",
    "        item_j_sub_mean = item_j_vec[corrated_index] - mean_item_j\n",
    "\n",
    "        r_ui_sub_ri_sq = np.square(item_i_sub_mean)\n",
    "        r_uj_sub_rj_sq = np.square(item_j_sub_mean)\n",
    "\n",
    "        r_ui_sub_ri_sq_sum_sqrt = np.sqrt(np.sum(r_ui_sub_ri_sq))\n",
    "        r_uj_sub_rj_sq_sum_sqrt = np.sqrt(np.sum(r_uj_sub_rj_sq))\n",
    "\n",
    "        sim = np.sum(item_i_sub_mean * item_j_sub_mean) / (r_ui_sub_ri_sq_sum_sqrt * r_uj_sub_rj_sq_sum_sqrt + EPSILON)\n",
    "\n",
    "        # significance weighting\n",
    "        weighted_sim = (min(len(corrated_index), DELTA) / DELTA) * sim\n",
    "\n",
    "        np_item_pearson_corr[i][j] = weighted_sim\n",
    "\n",
    "np_item_pearson_corr"
   ]
  },
  {
   "cell_type": "markdown",
   "metadata": {
    "id": "2EANmxRhbQZX"
   },
   "source": [
    "### Predict Ratings"
   ]
  },
  {
   "cell_type": "code",
   "execution_count": null,
   "metadata": {
    "id": "vyysZ6e7bQZX"
   },
   "outputs": [],
   "source": [
    "np_predictions = np.zeros((n_users, n_items))\n",
    "\n",
    "K = 10\n",
    "EPSILON = 1e-9\n",
    "\n",
    "for (i, j), rating in np.ndenumerate(test_ds.values):\n",
    "    if rating > 0:\n",
    "        # find top-k most similar items as the current item, remove itself\n",
    "        sim_item_ids = np.argsort(np_item_pearson_corr[j])[-(K + 1):-1]\n",
    "\n",
    "        # the coefficient values of similar items\n",
    "        sim_val = np_item_pearson_corr[j][sim_item_ids]\n",
    "\n",
    "        # the average value of the current item's ratings\n",
    "        sim_items = train_ds.T.values[sim_item_ids]\n",
    "        item_mean = np.sum(train_ds.T.values[j]) / (np.sum(np.clip(train_ds.T.values[j], 0, 1)) + EPSILON)\n",
    "        sim_item_mean = np.sum(sim_items, axis=1) / (np.sum(np.clip(sim_items, 0, 1), axis=1) + EPSILON)\n",
    "\n",
    "        # sim(u, v) * (r_v - mean_v)\n",
    "        sim_r_sum_mean = sim_val * (sim_items[:, i] - sim_item_mean) \n",
    "\n",
    "        # filter unrated items\n",
    "        w = np.clip(sim_items[:, i], 0, 1)\n",
    "        sim_r_sum_mean *= w\n",
    "\n",
    "        np_predictions[i][j] = item_mean + np.sum(sim_r_sum_mean) / (np.sum(sim_val * w) + EPSILON)    \n",
    "        np_predictions[i][j] = np.clip(np_predictions[i][j], 0, 5)\n",
    "    "
   ]
  },
  {
   "cell_type": "markdown",
   "metadata": {
    "id": "-rIh6rpJbQZY"
   },
   "source": [
    "### Evaluation"
   ]
  },
  {
   "cell_type": "markdown",
   "metadata": {
    "id": "XbMQzZlibQZY"
   },
   "source": [
    "#### Mean Absolute Error (MAE)"
   ]
  },
  {
   "cell_type": "code",
   "execution_count": null,
   "metadata": {
    "colab": {
     "base_uri": "https://localhost:8080/"
    },
    "id": "bg2OzOBXbQZZ",
    "outputId": "8e032639-a4ca-4d72-8194-7c2a36611e94"
   },
   "outputs": [],
   "source": [
    "#==================MAE on Testing set===================#\n",
    "labels = test_ds.values\n",
    "\n",
    "# absolute error on all ratings\n",
    "absolute_error = np.abs(np_predictions - labels)\n",
    "\n",
    "# weight\n",
    "weight = np.clip(labels, 0, 1)\n",
    "\n",
    "# absoulte error on rated ratings\n",
    "abs_error = absolute_error * weight\n",
    "\n",
    "# MAE\n",
    "MAE = np.sum(abs_error) / np.sum(weight)\n",
    "\n",
    "print(\"MAE on Tesing set (Item-based): \" + str(MAE));"
   ]
  },
  {
   "cell_type": "markdown",
   "metadata": {
    "id": "ze_3YW5GbQZZ"
   },
   "source": [
    "#### Root Mean Squared Error (RMSE)"
   ]
  },
  {
   "cell_type": "code",
   "execution_count": null,
   "metadata": {
    "colab": {
     "base_uri": "https://localhost:8080/"
    },
    "id": "FEh_WNPXbQZa",
    "outputId": "3be0306d-72e2-4a82-fc84-06f00b746193"
   },
   "outputs": [],
   "source": [
    "#==================RMSE on Testing set===================#\n",
    "labels = test_ds.values\n",
    "\n",
    "# squared error on all ratings\n",
    "squared_error = np.square(np_predictions - labels)\n",
    "weight = np.clip(labels, 0, 1)\n",
    "\n",
    "# squared error on rated ratings\n",
    "squared_error = squared_error * weight\n",
    "\n",
    "# RMSE\n",
    "RMSE = np.sqrt(np.sum(squared_error) / np.sum(weight))\n",
    "\n",
    "print(\"RMSE on Tesing set (Item-based): \" + str(RMSE));"
   ]
  },
  {
   "cell_type": "code",
   "execution_count": null,
   "metadata": {
    "id": "6be1nHnBRSl9"
   },
   "outputs": [],
   "source": []
  }
 ],
 "metadata": {
  "colab": {
   "collapsed_sections": [],
   "name": "KNN_based_CF_final.ipynb",
   "provenance": [],
   "toc_visible": true
  },
  "kernelspec": {
   "display_name": "Python 3 (ipykernel)",
   "language": "python",
   "name": "python3"
  },
  "language_info": {
   "codemirror_mode": {
    "name": "ipython",
    "version": 3
   },
   "file_extension": ".py",
   "mimetype": "text/x-python",
   "name": "python",
   "nbconvert_exporter": "python",
   "pygments_lexer": "ipython3",
   "version": "3.9.13"
  }
 },
 "nbformat": 4,
 "nbformat_minor": 1
}
